{
 "cells": [
  {
   "cell_type": "markdown",
   "id": "4c3a14a3-4af2-4e80-8c52-cd1a8ab040fb",
   "metadata": {},
   "source": [
    "Q1. Reverse a String\n",
    "Problem: Reverse a given string.\n",
    "\n",
    "Input: \"hello\"\n",
    "\n",
    "Output: \"olleh\"\n",
    "\n",
    "Solution 1: Using Slicing"
   ]
  },
  {
   "cell_type": "code",
   "execution_count": 1,
   "id": "caa9720a-a732-41e7-939a-729ff922114f",
   "metadata": {},
   "outputs": [
    {
     "name": "stdout",
     "output_type": "stream",
     "text": [
      "olleh\n"
     ]
    }
   ],
   "source": [
    "def reverse_string(s):\n",
    "    return s[::-1]\n",
    "\n",
    "# Test\n",
    "print(reverse_string(\"hello\"))  # Output: olleh\n"
   ]
  },
  {
   "cell_type": "code",
   "execution_count": 2,
   "id": "f5088fbf-5141-4aa5-a339-451eeaf7108d",
   "metadata": {},
   "outputs": [
    {
     "name": "stdout",
     "output_type": "stream",
     "text": [
      "olleh\n"
     ]
    }
   ],
   "source": [
    "#Solution 2: Using Loop\n",
    "\n",
    "def reverse_string(s):\n",
    "    reversed_str = \"\"\n",
    "    for char in s:\n",
    "        reversed_str = char + reversed_str\n",
    "    return reversed_str\n",
    "\n",
    "# Test\n",
    "print(reverse_string(\"hello\"))  # Output: olleh"
   ]
  },
  {
   "cell_type": "markdown",
   "id": "43e408ec-01ac-494e-942b-11e4196c75d4",
   "metadata": {},
   "source": [
    "Check if a String is a Palindrome\n",
    "\n",
    "Problem: Check if a string is the same forward and backward.\n",
    "\n",
    "Input: \"madam\"\n",
    "\n",
    "Output: True\n",
    "\n",
    "Solution:"
   ]
  },
  {
   "cell_type": "code",
   "execution_count": 3,
   "id": "475c4df2-a1d3-451f-b8cb-e4cc09df87f7",
   "metadata": {},
   "outputs": [
    {
     "name": "stdout",
     "output_type": "stream",
     "text": [
      "True\n",
      "False\n"
     ]
    }
   ],
   "source": [
    "def is_palindrome(s):\n",
    "    s = s.lower()  # Case insensitive\n",
    "    return s == s[::-1]\n",
    "\n",
    "# Test\n",
    "print(is_palindrome(\"Madam\"))  # Output: True\n",
    "print(is_palindrome(\"Hello\"))  # Output: False\n"
   ]
  },
  {
   "cell_type": "markdown",
   "id": "cad30ada-a325-4094-b5b6-80d2e45689ec",
   "metadata": {},
   "source": [
    "Find the First Non-Repeating Character\n",
    "\n",
    "Problem: Find the first character that does not repeat.\n",
    "\n",
    "Input: \"swiss\"\n",
    "\n",
    "Output: \"w\"\n",
    "\n",
    "Solution:"
   ]
  },
  {
   "cell_type": "code",
   "execution_count": 8,
   "id": "f4d88e07-2678-4546-9d64-cb064313c3f0",
   "metadata": {},
   "outputs": [
    {
     "name": "stdout",
     "output_type": "stream",
     "text": [
      "w\n",
      "None\n"
     ]
    }
   ],
   "source": [
    "from collections import Counter\n",
    "\n",
    "def first_non_repeating(s):\n",
    "    count = Counter(s)\n",
    "    for char in s:\n",
    "        if count[char] == 1:\n",
    "            return char\n",
    "    return None\n",
    "\n",
    "# Test\n",
    "print(first_non_repeating(\"swiss\"))  # Output: w\n",
    "print(first_non_repeating(\"aabbcc\")) # Output: None\n"
   ]
  },
  {
   "cell_type": "markdown",
   "id": "fa86c7db-4adf-4eea-b71a-0f3be05f254b",
   "metadata": {},
   "source": [
    "Count the Occurrences of Each Character\n",
    "\n",
    "Problem: Count the number of occurrences of each character in a string.\n",
    "\n",
    "Input: \"apple\"\n",
    "\n",
    "Output: {'a': 1, 'p': 2, 'l': 1, 'e': 1}\n",
    "\n",
    "Solution:"
   ]
  },
  {
   "cell_type": "code",
   "execution_count": 9,
   "id": "ce829211-bfd9-4af9-ab83-7dbc3ce1f1be",
   "metadata": {},
   "outputs": [
    {
     "name": "stdout",
     "output_type": "stream",
     "text": [
      "{'a': 1, 'p': 2, 'l': 1, 'e': 1}\n"
     ]
    }
   ],
   "source": [
    "from collections import Counter\n",
    "\n",
    "def char_count(s):\n",
    "    return dict(Counter(s))\n",
    "\n",
    "# Test\n",
    "print(char_count(\"apple\"))  # Output: {'a': 1, 'p': 2, 'l': 1, 'e': 1}\n"
   ]
  },
  {
   "cell_type": "markdown",
   "id": "286a2bf9-231a-424f-ac62-606d7d97a5a9",
   "metadata": {},
   "source": [
    "Check if Two Strings are Anagrams\n",
    "\n",
    "Problem: Check if two strings are anagrams of each other.\n",
    "\n",
    "Input: \"listen\", \"silent\"\n",
    "\n",
    "Output: True"
   ]
  },
  {
   "cell_type": "code",
   "execution_count": 11,
   "id": "ad3bfc58-2b2e-4a92-af04-0a806eb37041",
   "metadata": {},
   "outputs": [
    {
     "name": "stdout",
     "output_type": "stream",
     "text": [
      "True\n",
      "False\n"
     ]
    }
   ],
   "source": [
    "def are_anagrams(s1, s2):\n",
    "    return sorted(s1) == sorted(s2)\n",
    "\n",
    "# Test\n",
    "print(are_anagrams(\"listen\", \"silent\"))  # Output: True\n",
    "print(are_anagrams(\"hello\", \"world\"))    # Output: False\n"
   ]
  },
  {
   "cell_type": "markdown",
   "id": "749a45ba-61e7-444a-8442-45ae354623e6",
   "metadata": {},
   "source": [
    "Find the Maximum Product of Two Integers\n",
    "\n",
    "Problem: Given an array of integers, find the maximum product of two integers.\n",
    "\n",
    "Input: [1, 20, -1, 3, 10]\n",
    "\n",
    "Output: 20"
   ]
  },
  {
   "cell_type": "code",
   "execution_count": 12,
   "id": "0750cf26-b036-458a-a4d1-6d3ed99672ca",
   "metadata": {},
   "outputs": [
    {
     "name": "stdout",
     "output_type": "stream",
     "text": [
      "200\n"
     ]
    }
   ],
   "source": [
    "def max_product(nums):\n",
    "    nums.sort()\n",
    "    return max(nums[-1] * nums[-2], nums[0] * nums[1])\n",
    "\n",
    "# Test\n",
    "print(max_product([1, 20, -1, 3, 10]))  # Output: 200\n"
   ]
  },
  {
   "cell_type": "markdown",
   "id": "56dabd94-3296-4dde-818a-9f077c56a7ef",
   "metadata": {},
   "source": [
    "Find the Second Largest Element\n",
    "\n",
    "Problem: Find the second largest element in an array.\n",
    "\n",
    "Input: [10, 20, 4, 45, 99]\n",
    "\n",
    "Output: 45"
   ]
  },
  {
   "cell_type": "code",
   "execution_count": 14,
   "id": "2ae9f5fa-29e0-4cb2-bccb-0f3db63e5967",
   "metadata": {},
   "outputs": [
    {
     "name": "stdout",
     "output_type": "stream",
     "text": [
      "45\n"
     ]
    }
   ],
   "source": [
    "def second_largest(nums):\n",
    "    first, second = float('-inf'), float('-inf')\n",
    "    for num in nums:\n",
    "        if num > first:\n",
    "            second = first\n",
    "            first = num\n",
    "        elif num > second and num != first:\n",
    "            second = num\n",
    "    return second\n",
    "\n",
    "# Test\n",
    "print(second_largest([10, 20, 4, 45, 99]))  # Output: 45\n"
   ]
  },
  {
   "cell_type": "markdown",
   "id": "e45cb7f9-d17f-4c20-9073-0cec9870e277",
   "metadata": {},
   "source": [
    "Find Duplicates in an Array\n",
    "\n",
    "Problem: Find all duplicates in an array.\n",
    "\n",
    "Input: [1, 2, 3, 2, 4, 3, 5]\n",
    "\n",
    "Output: [2, 3]"
   ]
  },
  {
   "cell_type": "code",
   "execution_count": 15,
   "id": "7033d342-956e-4225-bd24-74849775edf3",
   "metadata": {},
   "outputs": [
    {
     "name": "stdout",
     "output_type": "stream",
     "text": [
      "[2, 3]\n"
     ]
    }
   ],
   "source": [
    "def find_duplicates(nums):\n",
    "    seen = set()\n",
    "    duplicates = set()\n",
    "    for num in nums:\n",
    "        if num in seen:\n",
    "            duplicates.add(num)\n",
    "        else:\n",
    "            seen.add(num)\n",
    "    return list(duplicates)\n",
    "\n",
    "# Test\n",
    "print(find_duplicates([1, 2, 3, 2, 4, 3, 5]))  # Output: [2, 3]\n"
   ]
  },
  {
   "cell_type": "markdown",
   "id": "7dea692e-cb5d-4986-88a3-48c8665ad0a6",
   "metadata": {},
   "source": [
    "Rotate Array by K Positions\n",
    "\n",
    "Problem: Rotate an array to the right by k positions.\n",
    "    \n",
    "Input: [1, 2, 3, 4, 5], k=2\n",
    "\n",
    "Output: [4, 5, 1, 2, 3]"
   ]
  },
  {
   "cell_type": "code",
   "execution_count": 16,
   "id": "626db923-219a-4e52-a933-e39984b0cd15",
   "metadata": {},
   "outputs": [
    {
     "name": "stdout",
     "output_type": "stream",
     "text": [
      "[4, 5, 1, 2, 3]\n"
     ]
    }
   ],
   "source": [
    "def rotate_array(nums, k):\n",
    "    k = k % len(nums)  # In case k > len(nums)\n",
    "    return nums[-k:] + nums[:-k]\n",
    "\n",
    "# Test\n",
    "print(rotate_array([1, 2, 3, 4, 5], 2))  # Output: [4, 5, 1, 2, 3]\n"
   ]
  },
  {
   "cell_type": "markdown",
   "id": "d41d2f9e-059d-4ea3-8b80-bda3ff154ee6",
   "metadata": {},
   "source": [
    "FizzBuzz\n",
    "Problem: Print numbers from 1 to 100. If divisible by 3, print \"Fizz\". If divisible by 5, print \"Buzz\". If divisible by both, print \"FizzBuzz\"."
   ]
  },
  {
   "cell_type": "code",
   "execution_count": 18,
   "id": "8db157dd-f6b0-45cd-8feb-dcd2f8f7bbc4",
   "metadata": {},
   "outputs": [
    {
     "name": "stdout",
     "output_type": "stream",
     "text": [
      "1\n",
      "2\n",
      "Fizz\n",
      "4\n",
      "Buzz\n",
      "Fizz\n",
      "7\n",
      "8\n",
      "Fizz\n"
     ]
    }
   ],
   "source": [
    "def fizz_buzz():\n",
    "    for i in range(1, 10):\n",
    "        if i % 3 == 0 and i % 5 == 0:\n",
    "            print(\"FizzBuzz\")\n",
    "        elif i % 3 == 0:\n",
    "            print(\"Fizz\")\n",
    "        elif i % 5 == 0:\n",
    "            print(\"Buzz\")\n",
    "        else:\n",
    "            print(i)\n",
    "\n",
    "# Test\n",
    "fizz_buzz()\n"
   ]
  },
  {
   "cell_type": "markdown",
   "id": "47071ba7-99a2-4378-ab41-6b3cfa99c587",
   "metadata": {},
   "source": [
    " Fibonacci Sequence\n",
    "\n",
    "Problem: Print the Fibonacci sequence up to n numbers.\n",
    "    \n",
    "Input: n = 10\n",
    "\n",
    "Output: 0, 1, 1, 2, 3, 5, 8, 13, 21, 34"
   ]
  },
  {
   "cell_type": "code",
   "execution_count": 19,
   "id": "0dc592ea-0102-4418-98fd-32846f657e5f",
   "metadata": {},
   "outputs": [
    {
     "name": "stdout",
     "output_type": "stream",
     "text": [
      "0 1 1 2 3 5 8 13 21 34 "
     ]
    }
   ],
   "source": [
    "def fibonacci(n):\n",
    "    a, b = 0, 1\n",
    "    for _ in range(n):\n",
    "        print(a, end=\" \")\n",
    "        a, b = b, a + b\n",
    "\n",
    "# Test\n",
    "fibonacci(10)\n"
   ]
  },
  {
   "cell_type": "markdown",
   "id": "0401f73e-4c08-47cd-8030-fcb6292c6ff3",
   "metadata": {},
   "source": [
    " Find Missing Number in Array\n",
    "\n",
    "Problem: Find the missing number in an array of n integers ranging from 1 to n.\n",
    "\n",
    "Input: [1, 2, 4, 5, 6]\n",
    "\n",
    "Output: 3"
   ]
  },
  {
   "cell_type": "code",
   "execution_count": 20,
   "id": "641d2439-b5b2-4a71-9054-d5e569862337",
   "metadata": {},
   "outputs": [
    {
     "name": "stdout",
     "output_type": "stream",
     "text": [
      "3\n"
     ]
    }
   ],
   "source": [
    "def find_missing_number(nums):\n",
    "    n = len(nums) + 1\n",
    "    total_sum = n * (n + 1) // 2\n",
    "    return total_sum - sum(nums)\n",
    "\n",
    "# Test\n",
    "print(find_missing_number([1, 2, 4, 5, 6]))  # Output: 3\n"
   ]
  },
  {
   "cell_type": "markdown",
   "id": "f1659092-1671-4d10-83dc-e4ac76b098d4",
   "metadata": {},
   "source": [
    "Longest Substring Without Repeating Characters\n",
    "\n",
    "Problem: Find the length of the longest substring without repeating characters.\n",
    "\n",
    "Input: \"abcabcbb\"\n",
    "\n",
    "Output: 3"
   ]
  },
  {
   "cell_type": "code",
   "execution_count": 21,
   "id": "2c412e35-ca39-4f42-a90b-41de72e0efe1",
   "metadata": {},
   "outputs": [
    {
     "name": "stdout",
     "output_type": "stream",
     "text": [
      "3\n"
     ]
    }
   ],
   "source": [
    "def length_of_longest_substring(s):\n",
    "    char_set = set()\n",
    "    left = 0\n",
    "    max_len = 0\n",
    "    \n",
    "    for right in range(len(s)):\n",
    "        while s[right] in char_set:\n",
    "            char_set.remove(s[left])\n",
    "            left += 1\n",
    "        char_set.add(s[right])\n",
    "        max_len = max(max_len, right - left + 1)\n",
    "    \n",
    "    return max_len\n",
    "\n",
    "# Test\n",
    "print(length_of_longest_substring(\"abcabcbb\"))  # Output: 3\n"
   ]
  },
  {
   "cell_type": "markdown",
   "id": "3ed411cc-bd45-44aa-8d68-ce4406c81142",
   "metadata": {},
   "source": [
    " String Compression\n",
    "\n",
    "Problem: Given a string, compress it such that \"aaabbbcc\" becomes \"a3b3c2\".\n",
    "\n",
    "If the compressed string is longer than the original string, return the original string.\n",
    "Input: \"aabcccccaaa\"\n",
    "\n",
    "Output: \"a2b1c5a3\"\n",
    "\n"
   ]
  },
  {
   "cell_type": "code",
   "execution_count": 23,
   "id": "d4c0b9c6-cdb6-4f93-aeeb-47c69e6e66af",
   "metadata": {},
   "outputs": [
    {
     "name": "stdout",
     "output_type": "stream",
     "text": [
      "a2b1c5a3\n"
     ]
    }
   ],
   "source": [
    "def compress_string(s):\n",
    "    result = []\n",
    "    count = 1\n",
    "    for i in range(1, len(s)):\n",
    "        if s[i] == s[i - 1]:\n",
    "            count += 1\n",
    "        else:\n",
    "            result.append(s[i - 1] + str(count))\n",
    "            count = 1\n",
    "    result.append(s[-1] + str(count))\n",
    "    \n",
    "    compressed_str = ''.join(result)\n",
    "    return compressed_str if len(compressed_str) < len(s) else s\n",
    "\n",
    "# Test\n",
    "print(compress_string(\"aabcccccaaa\"))  # Output: a2b1c5a3\n"
   ]
  },
  {
   "cell_type": "markdown",
   "id": "a780bf97-ce0b-49da-9d69-61a4eee904f9",
   "metadata": {},
   "source": [
    "Find the Intersection of Two Arrays\n",
    "\n",
    "Problem: Find the intersection of two arrays (elements that are common to both arrays).\n",
    "\n",
    "Input: [1, 2, 2, 1], [2, 2]\n",
    "\n",
    "Output: [2, 2]"
   ]
  },
  {
   "cell_type": "code",
   "execution_count": 24,
   "id": "f86c850a-c213-4737-8704-3b24b7940223",
   "metadata": {},
   "outputs": [
    {
     "name": "stdout",
     "output_type": "stream",
     "text": [
      "[2, 2]\n"
     ]
    }
   ],
   "source": [
    "from collections import Counter\n",
    "\n",
    "def intersect(nums1, nums2):\n",
    "    counter1 = Counter(nums1)\n",
    "    counter2 = Counter(nums2)\n",
    "    intersection = counter1 & counter2\n",
    "    return list(intersection.elements())\n",
    "\n",
    "# Test\n",
    "print(intersect([1, 2, 2, 1], [2, 2]))  # Output: [2, 2]\n"
   ]
  },
  {
   "cell_type": "markdown",
   "id": "575c3149-c6a8-497f-9e8f-1dfb381781d3",
   "metadata": {},
   "source": [
    "Move Zeros to the End\n",
    "\n",
    "Problem: Move all zero elements in an array to the end while maintaining the order of non-zero elements.\n",
    "\n",
    "Input: [0, 1, 0, 3, 12]\n",
    "\n",
    "Output: [1, 3, 12, 0, 0]"
   ]
  },
  {
   "cell_type": "code",
   "execution_count": 25,
   "id": "3e1d32c6-a4bd-4e8b-8a94-1403153e65ad",
   "metadata": {},
   "outputs": [
    {
     "name": "stdout",
     "output_type": "stream",
     "text": [
      "[1, 3, 12, 0, 0]\n"
     ]
    }
   ],
   "source": [
    "def move_zeros_to_end(nums):\n",
    "    non_zero_count = 0\n",
    "    \n",
    "    # Move all non-zero elements to the front\n",
    "    for i in range(len(nums)):\n",
    "        if nums[i] != 0:\n",
    "            nums[non_zero_count] = nums[i]\n",
    "            non_zero_count += 1\n",
    "    \n",
    "    # Fill remaining positions with 0s\n",
    "    for i in range(non_zero_count, len(nums)):\n",
    "        nums[i] = 0\n",
    "    \n",
    "    return nums\n",
    "\n",
    "# Test\n",
    "print(move_zeros_to_end([0, 1, 0, 3, 12]))  # Output: [1, 3, 12, 0, 0]\n"
   ]
  },
  {
   "cell_type": "markdown",
   "id": "4ab88ee3-4584-4cc6-b687-df8142b9c5d3",
   "metadata": {},
   "source": [
    " Find the Missing Number in an Array of 1 to N\n",
    "\n",
    "Problem: Given an array of size n containing numbers from 1 to n+1, find the missing number.\n",
    "    \n",
    "Input: [3, 7, 1, 2, 8, 4, 5]\n",
    "\n",
    "Output: 6"
   ]
  },
  {
   "cell_type": "code",
   "execution_count": 26,
   "id": "3110b460-a302-48fe-a7b6-20b5a42164b7",
   "metadata": {},
   "outputs": [
    {
     "name": "stdout",
     "output_type": "stream",
     "text": [
      "6\n"
     ]
    }
   ],
   "source": [
    "def find_missing_number(nums):\n",
    "    n = len(nums) + 1  # Expected size\n",
    "    total_sum = n * (n + 1) // 2\n",
    "    actual_sum = sum(nums)\n",
    "    \n",
    "    return total_sum - actual_sum\n",
    "\n",
    "# Test\n",
    "print(find_missing_number([3, 7, 1, 2, 8, 4, 5]))  # Output: 6\n"
   ]
  },
  {
   "cell_type": "code",
   "execution_count": null,
   "id": "2e4267b8-b34e-4296-a5be-06c08f1a42dd",
   "metadata": {},
   "outputs": [],
   "source": []
  }
 ],
 "metadata": {
  "kernelspec": {
   "display_name": "Python 3 (ipykernel)",
   "language": "python",
   "name": "python3"
  },
  "language_info": {
   "codemirror_mode": {
    "name": "ipython",
    "version": 3
   },
   "file_extension": ".py",
   "mimetype": "text/x-python",
   "name": "python",
   "nbconvert_exporter": "python",
   "pygments_lexer": "ipython3",
   "version": "3.12.3"
  }
 },
 "nbformat": 4,
 "nbformat_minor": 5
}
